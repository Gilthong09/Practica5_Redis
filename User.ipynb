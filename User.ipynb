{
 "cells": [
  {
   "cell_type": "code",
   "execution_count": 2,
   "metadata": {},
   "outputs": [],
   "source": [
    "import redis \n",
    "import time"
   ]
  },
  {
   "cell_type": "code",
   "execution_count": 3,
   "metadata": {},
   "outputs": [
    {
     "name": "stdout",
     "output_type": "stream",
     "text": [
      "Suscrito al canal 'test_channel'\n",
      "Mensaje recibido: Hola\n",
      "Mensaje recibido: KLK\n"
     ]
    }
   ],
   "source": [
    "r = redis.Redis(host='redis-12813.c17.us-east-1-4.ec2.redns.redis-cloud.com',port='12813', password='vOyN0n0TaBUZZ7tA4gEl6J43vuTI2p85')\n",
    "\n",
    "pubsub = r.pubsub()\n",
    "pubsub.subscribe('test_channel')\n",
    "\n",
    "print(\"Suscrito al canal 'test_channel'\")\n",
    "\n",
    "# Recibir y imprimir mensajes en tiempo real\n",
    "for message in pubsub.listen():\n",
    "    if message['type'] == 'message':\n",
    "        print(f\"Mensaje recibido: {message['data'].decode('utf-8')}\")"
   ]
  }
 ],
 "metadata": {
  "kernelspec": {
   "display_name": "Python 3",
   "language": "python",
   "name": "python3"
  },
  "language_info": {
   "codemirror_mode": {
    "name": "ipython",
    "version": 3
   },
   "file_extension": ".py",
   "mimetype": "text/x-python",
   "name": "python",
   "nbconvert_exporter": "python",
   "pygments_lexer": "ipython3",
   "version": "3.12.1"
  }
 },
 "nbformat": 4,
 "nbformat_minor": 2
}
