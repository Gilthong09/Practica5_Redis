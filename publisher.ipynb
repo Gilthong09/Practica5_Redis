{
 "cells": [
  {
   "cell_type": "code",
   "execution_count": 1,
   "metadata": {},
   "outputs": [
    {
     "name": "stdout",
     "output_type": "stream",
     "text": [
      "Collecting redis\n",
      "  Downloading redis-5.0.7-py3-none-any.whl.metadata (9.3 kB)\n",
      "Downloading redis-5.0.7-py3-none-any.whl (252 kB)\n",
      "   ---------------------------------------- 0.0/252.1 kB ? eta -:--:--\n",
      "   - -------------------------------------- 10.2/252.1 kB ? eta -:--:--\n",
      "   ---- ---------------------------------- 30.7/252.1 kB 435.7 kB/s eta 0:00:01\n",
      "   ------------ -------------------------- 81.9/252.1 kB 762.6 kB/s eta 0:00:01\n",
      "   -------------- ------------------------ 92.2/252.1 kB 751.6 kB/s eta 0:00:01\n",
      "   ----------------------------------- ---- 225.3/252.1 kB 1.1 MB/s eta 0:00:01\n",
      "   ----------------------------------- ---- 225.3/252.1 kB 1.1 MB/s eta 0:00:01\n",
      "   -------------------------------------- 252.1/252.1 kB 912.5 kB/s eta 0:00:00\n",
      "Installing collected packages: redis\n",
      "Successfully installed redis-5.0.7\n",
      "Note: you may need to restart the kernel to use updated packages.\n"
     ]
    },
    {
     "name": "stderr",
     "output_type": "stream",
     "text": [
      "\n",
      "[notice] A new release of pip is available: 24.0 -> 24.1.2\n",
      "[notice] To update, run: python.exe -m pip install --upgrade pip\n"
     ]
    }
   ],
   "source": [
    "%pip install redis"
   ]
  },
  {
   "cell_type": "code",
   "execution_count": 2,
   "metadata": {},
   "outputs": [],
   "source": [
    "import redis \n",
    "import time"
   ]
  },
  {
   "cell_type": "code",
   "execution_count": 3,
   "metadata": {},
   "outputs": [
    {
     "name": "stdout",
     "output_type": "stream",
     "text": [
      "Mensaje publicado: Hola como estas?\n",
      "Mensaje publicado: Hola\n",
      "Mensaje publicado: KLK\n"
     ]
    }
   ],
   "source": [
    "r = redis.Redis(host='redis-12813.c17.us-east-1-4.ec2.redns.redis-cloud.com',port='12813', password='vOyN0n0TaBUZZ7tA4gEl6J43vuTI2p85')\n",
    "\n",
    "while True:\n",
    "    message = input(\"Ingrese el mensaje a publicar: \")\n",
    "    r.publish('test_channel', message)\n",
    "    print(f\"Mensaje publicado: {message}\")\n",
    "    time.sleep(1)"
   ]
  }
 ],
 "metadata": {
  "kernelspec": {
   "display_name": "Python 3",
   "language": "python",
   "name": "python3"
  },
  "language_info": {
   "codemirror_mode": {
    "name": "ipython",
    "version": 3
   },
   "file_extension": ".py",
   "mimetype": "text/x-python",
   "name": "python",
   "nbconvert_exporter": "python",
   "pygments_lexer": "ipython3",
   "version": "3.12.1"
  }
 },
 "nbformat": 4,
 "nbformat_minor": 2
}
